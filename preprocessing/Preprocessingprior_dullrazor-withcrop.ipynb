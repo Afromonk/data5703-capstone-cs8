{
 "cells": [
  {
   "cell_type": "code",
   "execution_count": 19,
   "metadata": {
    "id": "g3U_sbZmlUsC"
   },
   "outputs": [],
   "source": [
    "#LIBRARIES\n",
    "import os\n",
    "import numpy as np\n",
    "import matplotlib.pyplot as plt\n",
    "import cv2\n",
    "import tensorflow as tf\n",
    "from skimage.measure import label\n",
    "from keras.applications.resnet50 import preprocess_input\n",
    "import random"
   ]
  },
  {
   "cell_type": "code",
   "execution_count": 20,
   "metadata": {
    "id": "bP-m7N2mCUAK"
   },
   "outputs": [],
   "source": [
    "#MY DRIVE PATH\n",
    "image_path = \"3classes/HAM10000_train_by_class\"\n",
    "image_output_path = \"3classes/HAM10000_train_dull_G-7-7-5-5_M-3-3\"\n",
    "dullrazor = True\n",
    "\n",
    "#This just triggers the reduction of the images down to imgnum\n",
    "doingtest = True\n",
    "#change to desired number of images for training; this was simply to do downsampling as I was testing on 2k per class\n",
    "imgnum = 2000"
   ]
  },
  {
   "cell_type": "code",
   "execution_count": 21,
   "metadata": {
    "id": "4gBP8Ci51Qqw"
   },
   "outputs": [],
   "source": [
    "#LOAD IMAGES\n",
    "image_path_mel = os.path.join(image_path,\"mel/\")\n",
    "image_path_bcc = os.path.join(image_path,'bcc/')\n",
    "image_path_others = os.path.join(image_path,'others/')\n",
    "image_output_mel = os.path.join(image_output_path,'mel/')\n",
    "image_output_bcc = os.path.join(image_output_path,'bcc/')\n",
    "image_output_others = os.path.join(image_output_path,'others/')\n",
    "\n",
    "def loadImages(path):\n",
    "    # Put files into lists and return them as one list with all images in the folder\n",
    "    image_files = sorted([os.path.join(path, file)\n",
    "                          for file in os.listdir(path)\n",
    "                          if file.endswith('.jpg')])\n",
    "    return image_files"
   ]
  },
  {
   "cell_type": "code",
   "execution_count": 22,
   "metadata": {},
   "outputs": [
    {
     "name": "stdout",
     "output_type": "stream",
     "text": [
      "2000\n",
      "2000\n",
      "2000\n"
     ]
    }
   ],
   "source": [
    "import pathlib\n",
    "#check number of files in those directories here\n",
    "melcount = 0\n",
    "for path in pathlib.Path(image_path_mel).iterdir():\n",
    "    if path.is_file():\n",
    "        melcount += 1\n",
    "print(melcount)\n",
    "otherscount = 0\n",
    "for path in pathlib.Path(image_path_others).iterdir():\n",
    "    if path.is_file():\n",
    "        otherscount += 1\n",
    "print(otherscount)\n",
    "bcccount = 0\n",
    "for path in pathlib.Path(image_path_bcc).iterdir():\n",
    "    if path.is_file():\n",
    "        bcccount += 1\n",
    "print(bcccount)"
   ]
  },
  {
   "cell_type": "code",
   "execution_count": 23,
   "metadata": {},
   "outputs": [],
   "source": [
    "#only do once, done to remove files in others down to imgnum; that said, doesn't do anything if its already down to imgnum\n",
    "#sole purpose of this was to reduce training set for 2000 for when i was testing\n",
    "\"\"\"\n",
    "files = os.listdir('3classes/HAM10000_train_by_class/others')\n",
    "otherscount = 0\n",
    "for path in pathlib.Path('3classes/HAM10000_train_by_class/others').iterdir():\n",
    "    if path.is_file():\n",
    "        otherscount += 1\n",
    "for file in random.sample(files,otherscount-imgnum):\n",
    "    os.remove(os.path.join('3classes/HAM10000_train_by_class/others',file))\n",
    "\"\"\""
   ]
  },
  {
   "cell_type": "code",
   "execution_count": 24,
   "metadata": {
    "id": "8O0Hl9dmjxku"
   },
   "outputs": [],
   "source": [
    "def read_image_cv2(Dataset):  \n",
    "  img = [cv2.imread(i, cv2.IMREAD_UNCHANGED,) for i in Dataset[:len(Dataset)]]\n",
    "  return img\n",
    "data = loadImages(image_path_mel)\n",
    "image = cv2.imread(data[2], cv2.IMREAD_UNCHANGED)"
   ]
  },
  {
   "cell_type": "code",
   "execution_count": 26,
   "metadata": {
    "id": "-UVJ268PCCg4"
   },
   "outputs": [],
   "source": [
    "#HYPER-PARAMETERS FOR DULL RAZOR\n",
    "\n",
    "#resize\n",
    "resizeon = True #triggers resize\n",
    "resizeW = 600 #height of resized image\n",
    "resizeH = 450 #width of resized image\n",
    "ResizeParam = [resizeW, resizeH]\n",
    "\n",
    "#Resize alternative: Retain aspect ratio by cropping down to the central 'square'\n",
    "resizecropon = True #triggers on, overrides resizeon\n",
    "resizealtres = 450 #height and width of resulting square image\n",
    "\n",
    "#dull razor\n",
    "razorblur = \"G\" #M for median, G for Gaussian, have found Gaussian works better for this at cost of removal \n",
    "mediankernel_razorblur = 7 #blur number\n",
    "filterstructure = 7 #will form structure for kernel\n",
    "lowerbound = 5 #15 original\n",
    "inpaintmat = 5\n",
    "\n",
    "#blur\n",
    "blur = True #turns on blur\n",
    "normalblur = \"M\" #M for Median, G for Gaussian\n",
    "mediankernel_blur = 3 #for Median, higher numbers = more blur, think it has to be odd\n",
    "blurnum = 3 #for Gauss, higher numbers = more blur, think it has to be odd\n"
   ]
  },
  {
   "cell_type": "code",
   "execution_count": 27,
   "metadata": {
    "id": "k9uthYuEsGbf"
   },
   "outputs": [],
   "source": [
    "#RESIZE IMAGE\n",
    "def resize(Image,ResizeParam):\n",
    "    #resize\n",
    "    dim = (ResizeParam[0], ResizeParam[1])\n",
    "    res_img = []\n",
    "    if resizeon == True:\n",
    "        for i in range(len(Image)):\n",
    "            res = cv2.resize(Image[i], dim, interpolation=cv2.INTER_LINEAR)\n",
    "            res_img.append(res)\n",
    "    else:\n",
    "        res_img = Image\n",
    "    return res_img\n",
    "\n",
    "#Resize but has to be down to square, assuming mole would be in the middle 'square'\n",
    "def retainaspectresize(images,resolution):\n",
    "    res_images = []\n",
    "    for image in images:\n",
    "        h,w,d = image.shape\n",
    "        if h > w:\n",
    "            croppedimg = image[0:w,int(round(h/2-w/2)):int(round(h/2+w/2))]\n",
    "            resimg = cv2.resize(croppedimg, (resolution,resolution), interpolation=cv2.INTER_LINEAR)\n",
    "        elif w > h:\n",
    "            croppedimg = image[int(round(w/2-h/2)):int(round(w/2+h/2)),0:h]\n",
    "            resimg = cv2.resize(croppedimg, (resolution,resolution), interpolation=cv2.INTER_LINEAR)\n",
    "        else:\n",
    "            resimg = cv2.resize(image,(resolution,resolution),interpolation=cv2.INTER_LINEAR)\n",
    "        res_images.append(resimg)\n",
    "    return res_images\n",
    "\n",
    "#REMOVING HAIR USING DULL RAZOR\n",
    "def dull_razor(ResizedImages):\n",
    "    #dull razor\n",
    "    hair_removed_images = []\n",
    "    if dullrazor == True:\n",
    "        for i in range(len(ResizedImages)):\n",
    "            if razorblur == \"M\":\n",
    "                tempimg = cv2.medianBlur(ResizedImages[i],mediankernel_razorblur)\n",
    "            elif razorblur == \"G\":\n",
    "                tempimg = cv2.GaussianBlur(ResizedImages[i], (mediankernel_razorblur, mediankernel_razorblur),0)\n",
    "            else:\n",
    "                tempimg = ResizedImages[i]\n",
    "            gyimage = cv2.cvtColor(tempimg, cv2.COLOR_RGB2GRAY)\n",
    "            filtersize = (filterstructure,filterstructure)\n",
    "            kernelrazor = cv2.getStructuringElement(cv2.MORPH_RECT, filtersize)\n",
    "            gyimage = cv2.morphologyEx(gyimage, cv2.MORPH_BLACKHAT, kernelrazor)\n",
    "\n",
    "            retrazor, maskrazor = cv2.threshold(gyimage, lowerbound, 255, cv2.THRESH_BINARY)\n",
    "            x = cv2.inpaint(ResizedImages[i], maskrazor, inpaintmat, cv2.INPAINT_TELEA)\n",
    "            hair_removed_images.append(x)\n",
    "        return hair_removed_images\n",
    "    else:\n",
    "        return ResizedImages\n",
    "\n",
    "#BLUR AFTER REMOVING HAIR\n",
    "def blur(HairRemovedImages):\n",
    "    #blur\n",
    "    if blur == True:\n",
    "        if normalblur == \"M\":\n",
    "            for i in range(len(HairRemovedImages)):\n",
    "                HairRemovedImages[i] = cv2.medianBlur(HairRemovedImages[i], mediankernel_blur)\n",
    "        elif normalblur == \"G\":\n",
    "            for i in range(len(HairRemovedImages)): \n",
    "                HairRemovedImages[i] = cv2.GaussianBlur(HairRemovedImages[i], (mediankernel_blur, mediankernel_blur), 0)\n",
    "    return HairRemovedImages"
   ]
  },
  {
   "cell_type": "code",
   "execution_count": 28,
   "metadata": {
    "id": "UmIOjPzloW0y"
   },
   "outputs": [],
   "source": [
    "#SOFT ATTENTION MAPPING COMPLETE PROCESS\n",
    "#####################\n",
    "#PREPROCESS IMAGES BEFOFE MAPPING\n",
    "def softention_preprocess(SoftentionImages):\n",
    "    expanded_list = []\n",
    "    # use the pre processing function of ResNet50 \n",
    "    for i in SoftentionImages:\n",
    "        first = preprocess_input(i)\n",
    "        second = np.expand_dims(first, 0)\n",
    "        expanded_list.append(second)\n",
    "    return expanded_list\n",
    "\n"
   ]
  },
  {
   "cell_type": "code",
   "execution_count": 29,
   "metadata": {
    "id": "cUawnytLNYMm"
   },
   "outputs": [],
   "source": [
    "#PLOT ALL THREE IMAGES - RESIZED IMAGE, IMAGE WITH HAIR REMOVED AND IMAGE WITH SOFT ATTENTION MAPPING\n",
    "def plot_heatmaps(Range, SoftentionExpandedImages, pretrained_model, ResizeParam, SoftentionImages, ResizedImages, HairRemovedImages, k):  \n",
    "    #given a range of indices generate the heat maps \n",
    "    level_map_list = []\n",
    "    for i in Range:\n",
    "        for j in SoftentionExpandedImages:\n",
    "            heatmap = softention_mapping(j, i, pretrained_model, ResizeParam, SoftentionImages)\n",
    "            level_map_list.append(heatmap)\n",
    "    plt.figure(figsize=(8, 8))\n",
    "    display_three(ResizedImages[k],HairRemovedImages[k],level_map_list[k], \"original\",\"dullrazor+blur\", \"soft attention\")"
   ]
  },
  {
   "cell_type": "code",
   "execution_count": 30,
   "metadata": {},
   "outputs": [],
   "source": [
    "def delete_random_elems(input_list,n):\n",
    "    to_delete = set(random.sample(range(len(input_list)),n))\n",
    "    return[x for i,x in enumerate(input_list) if not i in to_delete]"
   ]
  },
  {
   "cell_type": "code",
   "execution_count": 31,
   "metadata": {},
   "outputs": [],
   "source": [
    "#clear out output directory\n",
    "for root, dirs, files in os.walk(image_output_others):\n",
    "    for file in files:\n",
    "        os.remove(os.path.join(root, file))\n",
    "for root, dirs, files in os.walk(image_output_mel):\n",
    "    for file in files:\n",
    "        os.remove(os.path.join(root, file))\n",
    "for root, dirs, files in os.walk(image_output_bcc):\n",
    "    for file in files:\n",
    "        os.remove(os.path.join(root, file))"
   ]
  },
  {
   "cell_type": "code",
   "execution_count": 32,
   "metadata": {
    "colab": {
     "base_uri": "https://localhost:8080/",
     "height": 342
    },
    "id": "Xb8xnksivg_1",
    "outputId": "e42cbba2-91e9-4f35-d7b7-14dfc36b2383"
   },
   "outputs": [
    {
     "name": "stdout",
     "output_type": "stream",
     "text": [
      "a\n"
     ]
    }
   ],
   "source": [
    "data = loadImages(image_path_others)\n",
    "if doingtest == False:\n",
    "    data = delete_random_elems(data,len(data)-imgnum)\n",
    "img = read_image_cv2(data)\n",
    "if resizecropon == True:\n",
    "    retainaspectresize(img,resizealtres)\n",
    "else:\n",
    "    res_img = resize(img, ResizeParam)\n",
    "hair_removed_image = dull_razor(res_img)\n",
    "SoftentionImage = hair_removed_image_furtherbluring = blur(hair_removed_image)\n",
    "imagecount = 0\n",
    "for i in SoftentionImage:\n",
    "    cv2.imwrite(os.path.join(image_output_others,str(imagecount)+\".jpg\"),i)\n",
    "    imagecount=imagecount+1"
   ]
  },
  {
   "cell_type": "code",
   "execution_count": 33,
   "metadata": {},
   "outputs": [],
   "source": [
    "#I know I should reiterate but chances are this code will never see the light of day. Will redo if it happens to be worth it."
   ]
  },
  {
   "cell_type": "code",
   "execution_count": 34,
   "metadata": {},
   "outputs": [],
   "source": [
    "data = loadImages(image_path_mel)\n",
    "if doingtest == False:\n",
    "    data = delete_random_elems(data,len(data)-imgnum)\n",
    "img = read_image_cv2(data)\n",
    "if resizecropon == True:\n",
    "    retainaspectresize(img,resizealtres)\n",
    "else:\n",
    "    res_img = resize(img, ResizeParam)\n",
    "hair_removed_image = dull_razor(res_img)\n",
    "SoftentionImage = hair_removed_image_furtherbluring = blur(hair_removed_image)\n",
    "imagecount = 0\n",
    "for i in SoftentionImage:\n",
    "    cv2.imwrite(os.path.join(image_output_mel,str(imagecount)+\".jpg\"),i)\n",
    "    imagecount=imagecount+1"
   ]
  },
  {
   "cell_type": "code",
   "execution_count": 35,
   "metadata": {},
   "outputs": [],
   "source": [
    "data = loadImages(image_path_bcc)\n",
    "if doingtest == False:\n",
    "    data = delete_random_elems(data,len(data)-imgnum)\n",
    "img = read_image_cv2(data)\n",
    "if resizecropon == True:\n",
    "    retainaspectresize(img,resizealtres)\n",
    "else:\n",
    "    res_img = resize(img, ResizeParam)\n",
    "hair_removed_image = dull_razor(res_img)\n",
    "SoftentionImage = hair_removed_image_furtherbluring = blur(hair_removed_image)\n",
    "imagecount = 0\n",
    "for i in SoftentionImage:\n",
    "    cv2.imwrite(os.path.join(image_output_bcc,str(imagecount)+\".jpg\"),i)\n",
    "    imagecount=imagecount+1"
   ]
  },
  {
   "cell_type": "code",
   "execution_count": 36,
   "metadata": {},
   "outputs": [
    {
     "name": "stdout",
     "output_type": "stream",
     "text": [
      "2000\n",
      "2000\n",
      "2000\n"
     ]
    }
   ],
   "source": [
    "import pathlib\n",
    "#check number of files in those directories here\n",
    "melcount = 0\n",
    "for path in pathlib.Path(image_output_mel).iterdir():\n",
    "    if path.is_file():\n",
    "        melcount += 1\n",
    "print(melcount)\n",
    "otherscount = 0\n",
    "for path in pathlib.Path(image_output_others).iterdir():\n",
    "    if path.is_file():\n",
    "        otherscount += 1\n",
    "print(otherscount)\n",
    "bcccount = 0\n",
    "for path in pathlib.Path(image_output_bcc).iterdir():\n",
    "    if path.is_file():\n",
    "        bcccount += 1\n",
    "print(bcccount)"
   ]
  },
  {
   "cell_type": "code",
   "execution_count": null,
   "metadata": {},
   "outputs": [],
   "source": []
  },
  {
   "cell_type": "code",
   "execution_count": null,
   "metadata": {},
   "outputs": [],
   "source": []
  }
 ],
 "metadata": {
  "colab": {
   "collapsed_sections": [],
   "name": "Preprocessing_Single",
   "provenance": []
  },
  "kernelspec": {
   "display_name": "Python 3",
   "language": "python",
   "name": "python3"
  },
  "language_info": {
   "codemirror_mode": {
    "name": "ipython",
    "version": 3
   },
   "file_extension": ".py",
   "mimetype": "text/x-python",
   "name": "python",
   "nbconvert_exporter": "python",
   "pygments_lexer": "ipython3",
   "version": "3.7.10"
  }
 },
 "nbformat": 4,
 "nbformat_minor": 1
}
